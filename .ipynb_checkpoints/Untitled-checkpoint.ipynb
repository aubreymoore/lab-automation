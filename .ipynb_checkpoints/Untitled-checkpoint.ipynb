{
 "cells": [
  {
   "cell_type": "code",
   "execution_count": 1,
   "id": "f5fda51c-f9ba-4b95-9114-7a6a82db7c2a",
   "metadata": {},
   "outputs": [
    {
     "name": "stdout",
     "output_type": "stream",
     "text": [
      "Defaulting to user installation because normal site-packages is not writeable\n",
      "Collecting mettler_toledo_device\n",
      "  Downloading mettler_toledo_device-1.5.0.tar.gz (7.0 kB)\n",
      "  Preparing metadata (setup.py) ... \u001b[?25ldone\n",
      "\u001b[?25hCollecting pyserial\n",
      "  Downloading pyserial-3.5-py2.py3-none-any.whl (90 kB)\n",
      "\u001b[2K     \u001b[38;2;114;156;31m━━━━━━━━━━━━━━━━━━━━━━━━━━━━━━━━━━━━━━━━\u001b[0m \u001b[32m90.6/90.6 kB\u001b[0m \u001b[31m13.1 kB/s\u001b[0m eta \u001b[36m0:00:00\u001b[0m31m11.0 kB/s\u001b[0m eta \u001b[36m0:00:02\u001b[0m\n",
      "\u001b[?25hCollecting serial_interface\n",
      "  Downloading serial_interface-2.3.1-py3-none-any.whl (9.6 kB)\n",
      "Building wheels for collected packages: mettler_toledo_device\n",
      "  Building wheel for mettler_toledo_device (setup.py) ... \u001b[?25ldone\n",
      "\u001b[?25h  Created wheel for mettler_toledo_device: filename=mettler_toledo_device-1.5.0-py2.py3-none-any.whl size=5660 sha256=4aa30ad712b71ef7e3562566e7431d9e7a803a2b677a9409cf9a9d09cbe69bda\n",
      "  Stored in directory: /home/aubrey/.cache/pip/wheels/76/94/7c/8a75eee3e6a0b0848f5af266305537ad51631e7bf002068718\n",
      "Successfully built mettler_toledo_device\n",
      "Installing collected packages: pyserial, serial_interface, mettler_toledo_device\n",
      "Successfully installed mettler_toledo_device-1.5.0 pyserial-3.5 serial_interface-2.3.1\n",
      "\n",
      "\u001b[1m[\u001b[0m\u001b[34;49mnotice\u001b[0m\u001b[1;39;49m]\u001b[0m\u001b[39;49m A new release of pip is available: \u001b[0m\u001b[31;49m23.0.1\u001b[0m\u001b[39;49m -> \u001b[0m\u001b[32;49m23.1.2\u001b[0m\n",
      "\u001b[1m[\u001b[0m\u001b[34;49mnotice\u001b[0m\u001b[1;39;49m]\u001b[0m\u001b[39;49m To update, run: \u001b[0m\u001b[32;49mpython3 -m pip install --upgrade pip\u001b[0m\n"
     ]
    }
   ],
   "source": [
    "# !pip install mettler_toledo_device"
   ]
  },
  {
   "cell_type": "code",
   "execution_count": 3,
   "id": "be01fc2b-4bdc-4f8d-8fd1-ab507a859bec",
   "metadata": {},
   "outputs": [],
   "source": [
    "from mettler_toledo_device import MettlerToledoDevice"
   ]
  },
  {
   "cell_type": "code",
   "execution_count": 4,
   "id": "d7716ad5-dbc2-4c84-9d57-5335ce7355f8",
   "metadata": {},
   "outputs": [
    {
     "ename": "RuntimeError",
     "evalue": "Could not find any MettlerToledo devices. Check connections and permissions.\nTried ports: []",
     "output_type": "error",
     "traceback": [
      "\u001b[0;31m---------------------------------------------------------------------------\u001b[0m",
      "\u001b[0;31mRuntimeError\u001b[0m                              Traceback (most recent call last)",
      "\u001b[0;32m<ipython-input-4-d4090cfa9a22>\u001b[0m in \u001b[0;36m<module>\u001b[0;34m\u001b[0m\n\u001b[0;32m----> 1\u001b[0;31m \u001b[0mdev\u001b[0m \u001b[0;34m=\u001b[0m \u001b[0mMettlerToledoDevice\u001b[0m\u001b[0;34m(\u001b[0m\u001b[0;34m)\u001b[0m \u001b[0;31m# Might automatically find device if one available\u001b[0m\u001b[0;34m\u001b[0m\u001b[0;34m\u001b[0m\u001b[0m\n\u001b[0m\u001b[1;32m      2\u001b[0m \u001b[0;34m\u001b[0m\u001b[0m\n\u001b[1;32m      3\u001b[0m \u001b[0;31m# if it is not found automatically, specify port directly\u001b[0m\u001b[0;34m\u001b[0m\u001b[0;34m\u001b[0m\u001b[0;34m\u001b[0m\u001b[0m\n\u001b[1;32m      4\u001b[0m \u001b[0;31m# dev = MettlerToledoDevice(port='/dev/ttyUSB0') # Linux specific port\u001b[0m\u001b[0;34m\u001b[0m\u001b[0;34m\u001b[0m\u001b[0;34m\u001b[0m\u001b[0m\n\u001b[1;32m      5\u001b[0m \u001b[0;31m# dev = MettlerToledoDevice(port='/dev/tty.usbmodem262471') # Mac OS X specific port\u001b[0m\u001b[0;34m\u001b[0m\u001b[0;34m\u001b[0m\u001b[0;34m\u001b[0m\u001b[0m\n",
      "\u001b[0;32m~/.local/lib/python3.8/site-packages/mettler_toledo_device/mettler_toledo_device.py\u001b[0m in \u001b[0;36m__init__\u001b[0;34m(self, *args, **kwargs)\u001b[0m\n\u001b[1;32m     92\u001b[0m             \u001b[0mkwargs\u001b[0m\u001b[0;34m.\u001b[0m\u001b[0mupdate\u001b[0m\u001b[0;34m(\u001b[0m\u001b[0;34m{\u001b[0m\u001b[0;34m'write_write_delay'\u001b[0m\u001b[0;34m:\u001b[0m \u001b[0mself\u001b[0m\u001b[0;34m.\u001b[0m\u001b[0m_WRITE_WRITE_DELAY\u001b[0m\u001b[0;34m}\u001b[0m\u001b[0;34m)\u001b[0m\u001b[0;34m\u001b[0m\u001b[0;34m\u001b[0m\u001b[0m\n\u001b[1;32m     93\u001b[0m         \u001b[0;32mif\u001b[0m \u001b[0;34m(\u001b[0m\u001b[0;34m'port'\u001b[0m \u001b[0;32mnot\u001b[0m \u001b[0;32min\u001b[0m \u001b[0mkwargs\u001b[0m\u001b[0;34m)\u001b[0m \u001b[0;32mor\u001b[0m \u001b[0;34m(\u001b[0m\u001b[0mkwargs\u001b[0m\u001b[0;34m[\u001b[0m\u001b[0;34m'port'\u001b[0m\u001b[0;34m]\u001b[0m \u001b[0;32mis\u001b[0m \u001b[0;32mNone\u001b[0m\u001b[0;34m)\u001b[0m\u001b[0;34m:\u001b[0m\u001b[0;34m\u001b[0m\u001b[0;34m\u001b[0m\u001b[0m\n\u001b[0;32m---> 94\u001b[0;31m             port =  find_mettler_toledo_device_port(baudrate=kwargs['baudrate'],\n\u001b[0m\u001b[1;32m     95\u001b[0m                                                     \u001b[0mtry_ports\u001b[0m\u001b[0;34m=\u001b[0m\u001b[0mtry_ports\u001b[0m\u001b[0;34m,\u001b[0m\u001b[0;34m\u001b[0m\u001b[0;34m\u001b[0m\u001b[0m\n\u001b[1;32m     96\u001b[0m                                                     debug=kwargs['debug'])\n",
      "\u001b[0;32m~/.local/lib/python3.8/site-packages/mettler_toledo_device/mettler_toledo_device.py\u001b[0m in \u001b[0;36mfind_mettler_toledo_device_port\u001b[0;34m(baudrate, model_number, serial_number, try_ports, debug)\u001b[0m\n\u001b[1;32m    330\u001b[0m         \u001b[0merr_string\u001b[0m \u001b[0;34m=\u001b[0m \u001b[0;34m'Could not find any MettlerToledo devices. Check connections and permissions.\\n'\u001b[0m\u001b[0;34m\u001b[0m\u001b[0;34m\u001b[0m\u001b[0m\n\u001b[1;32m    331\u001b[0m         \u001b[0merr_string\u001b[0m \u001b[0;34m+=\u001b[0m \u001b[0;34m'Tried ports: '\u001b[0m \u001b[0;34m+\u001b[0m \u001b[0mstr\u001b[0m\u001b[0;34m(\u001b[0m\u001b[0mserial_device_ports\u001b[0m\u001b[0;34m)\u001b[0m\u001b[0;34m\u001b[0m\u001b[0;34m\u001b[0m\u001b[0m\n\u001b[0;32m--> 332\u001b[0;31m         \u001b[0;32mraise\u001b[0m \u001b[0mRuntimeError\u001b[0m\u001b[0;34m(\u001b[0m\u001b[0merr_string\u001b[0m\u001b[0;34m)\u001b[0m\u001b[0;34m\u001b[0m\u001b[0;34m\u001b[0m\u001b[0m\n\u001b[0m\u001b[1;32m    333\u001b[0m     \u001b[0;32melse\u001b[0m\u001b[0;34m:\u001b[0m\u001b[0;34m\u001b[0m\u001b[0;34m\u001b[0m\u001b[0m\n\u001b[1;32m    334\u001b[0m         \u001b[0merr_string\u001b[0m \u001b[0;34m=\u001b[0m \u001b[0;34m'Found more than one MettlerToledo device. Specify port or model_number and/or serial_number.\\n'\u001b[0m\u001b[0;34m\u001b[0m\u001b[0;34m\u001b[0m\u001b[0m\n",
      "\u001b[0;31mRuntimeError\u001b[0m: Could not find any MettlerToledo devices. Check connections and permissions.\nTried ports: []"
     ]
    }
   ],
   "source": [
    "dev = MettlerToledoDevice() # Might automatically find device if one available\n",
    "\n",
    "# if it is not found automatically, specify port directly\n",
    "# dev = MettlerToledoDevice(port='/dev/ttyUSB0') # Linux specific port\n",
    "# dev = MettlerToledoDevice(port='/dev/tty.usbmodem262471') # Mac OS X specific port\n",
    "# dev = MettlerToledoDevice(port='COM3') # Windows specific port\n",
    "\n",
    "dev.get_serial_number()"
   ]
  },
  {
   "cell_type": "code",
   "execution_count": null,
   "id": "e7c905c9-2271-4b76-ab3d-bc1df312cbd7",
   "metadata": {},
   "outputs": [],
   "source": [
    "dev.get_balance_data()"
   ]
  },
  {
   "cell_type": "code",
   "execution_count": null,
   "id": "37a16193-51b0-4aa0-b080-40faac23bc19",
   "metadata": {},
   "outputs": [],
   "source": [
    "dev.get_balance_data()"
   ]
  }
 ],
 "metadata": {
  "kernelspec": {
   "display_name": "Python 3",
   "language": "python",
   "name": "python3"
  },
  "language_info": {
   "codemirror_mode": {
    "name": "ipython",
    "version": 3
   },
   "file_extension": ".py",
   "mimetype": "text/x-python",
   "name": "python",
   "nbconvert_exporter": "python",
   "pygments_lexer": "ipython3",
   "version": "3.8.10"
  }
 },
 "nbformat": 4,
 "nbformat_minor": 5
}
