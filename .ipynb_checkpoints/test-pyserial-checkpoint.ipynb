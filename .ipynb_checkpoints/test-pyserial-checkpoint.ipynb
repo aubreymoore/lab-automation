{
 "cells": [
  {
   "cell_type": "markdown",
   "id": "6c0a6ef9-3cda-49ef-be66-7fa9d565442c",
   "metadata": {},
   "source": [
    "Here's what I get when I run miniterm:\n",
    "\n",
    "```\n",
    "(myenv) aubrey@tensorbook2:~$ python -m serial.tools.miniterm /dev/ttyACM0 --echo\n",
    "--- Miniterm on /dev/ttyACM0  9600,8,N,1 ---\n",
    "--- Quit: Ctrl+] | Menu: Ctrl+T | Help: Ctrl+T followed by Ctrl+H ---\n",
    "S\n",
    "S S     7.9747 g\n",
    "S\n",
    "S S     7.9747 g\n",
    "S\n",
    "S S     7.9747 g\n",
    "S\n",
    "S S    -0.0001 g\n",
    "S\n",
    "S S    -0.0001 g\n",
    "```\n"
   ]
  },
  {
   "cell_type": "code",
   "execution_count": 1,
   "id": "b4a06898-81c1-42d5-b241-ef109f9fb38d",
   "metadata": {},
   "outputs": [],
   "source": [
    "# !pip install pyserial"
   ]
  },
  {
   "cell_type": "code",
   "execution_count": 2,
   "id": "68c6543e-7269-4f43-825b-57c0d829dc3f",
   "metadata": {},
   "outputs": [],
   "source": [
    "import os\n",
    "import serial"
   ]
  },
  {
   "cell_type": "code",
   "execution_count": 3,
   "id": "2405cf97-cfb7-4f7c-b20a-5320479d81cd",
   "metadata": {},
   "outputs": [
    {
     "name": "stdout",
     "output_type": "stream",
     "text": [
      "/dev/ttyACM0        \n",
      "    desc: MS104TS/00 - CDC Comm Interface\n",
      "    hwid: USB VID:PID=0EB8:2100 SER=C316030216_SerCDC LOCATION=1-4:1.0\n"
     ]
    },
    {
     "name": "stderr",
     "output_type": "stream",
     "text": [
      "1 ports found\n"
     ]
    },
    {
     "data": {
      "text/plain": [
       "0"
      ]
     },
     "execution_count": 3,
     "metadata": {},
     "output_type": "execute_result"
    }
   ],
   "source": [
    "os.system('python -m serial.tools.list_ports -v')"
   ]
  },
  {
   "cell_type": "code",
   "execution_count": 4,
   "id": "7514c035-2324-4617-8624-3a3249e924d6",
   "metadata": {},
   "outputs": [],
   "source": [
    "ser = serial.Serial(port='/dev/ttyACM0')"
   ]
  },
  {
   "cell_type": "markdown",
   "id": "ae4bd3a9-ca95-4049-9c55-32b97f02b83f",
   "metadata": {},
   "source": [
    "Send S followed by CR LF"
   ]
  },
  {
   "cell_type": "code",
   "execution_count": 5,
   "id": "dcab1256-8716-48db-a48a-7e789828f5f1",
   "metadata": {},
   "outputs": [
    {
     "data": {
      "text/plain": [
       "3"
      ]
     },
     "execution_count": 5,
     "metadata": {},
     "output_type": "execute_result"
    }
   ],
   "source": [
    "ser.write('S\\r\\n'.encode('UTF-8'))"
   ]
  },
  {
   "cell_type": "code",
   "execution_count": 6,
   "id": "5fba6f84-a30f-4666-8382-9a886f4e5bca",
   "metadata": {},
   "outputs": [
    {
     "name": "stdout",
     "output_type": "stream",
     "text": [
      "b'S S     7.9748 g\\r\\n'\n"
     ]
    }
   ],
   "source": [
    "data = ser.readline(1000)\n",
    "print(data)"
   ]
  }
 ],
 "metadata": {
  "kernelspec": {
   "display_name": "Python 3 (ipykernel)",
   "language": "python",
   "name": "python3"
  },
  "language_info": {
   "codemirror_mode": {
    "name": "ipython",
    "version": 3
   },
   "file_extension": ".py",
   "mimetype": "text/x-python",
   "name": "python",
   "nbconvert_exporter": "python",
   "pygments_lexer": "ipython3",
   "version": "3.9.5"
  }
 },
 "nbformat": 4,
 "nbformat_minor": 5
}
