{
 "cells": [
  {
   "cell_type": "markdown",
   "id": "6c0a6ef9-3cda-49ef-be66-7fa9d565442c",
   "metadata": {},
   "source": [
    "Here's what I get when I run miniterm:\n",
    "\n",
    "```\n",
    "(myenv) aubrey@tensorbook2:~$ python -m serial.tools.miniterm /dev/ttyACM0 --echo\n",
    "--- Miniterm on /dev/ttyACM0  9600,8,N,1 ---\n",
    "--- Quit: Ctrl+] | Menu: Ctrl+T | Help: Ctrl+T followed by Ctrl+H ---\n",
    "S\n",
    "S S     7.9747 g\n",
    "S\n",
    "S S     7.9747 g\n",
    "S\n",
    "S S     7.9747 g\n",
    "S\n",
    "S S    -0.0001 g\n",
    "S\n",
    "S S    -0.0001 g\n",
    "```\n"
   ]
  },
  {
   "cell_type": "code",
   "execution_count": 7,
   "id": "68c6543e-7269-4f43-825b-57c0d829dc3f",
   "metadata": {},
   "outputs": [],
   "source": [
    "import os\n",
    "import serial\n",
    "import parse"
   ]
  },
  {
   "cell_type": "code",
   "execution_count": 8,
   "id": "2405cf97-cfb7-4f7c-b20a-5320479d81cd",
   "metadata": {},
   "outputs": [
    {
     "name": "stdout",
     "output_type": "stream",
     "text": [
      "/dev/ttyACM0        \n",
      "    desc: MS104TS/00 - CDC Comm Interface\n",
      "    hwid: USB VID:PID=0EB8:2100 SER=C316030216_SerCDC LOCATION=1-4:1.0\n"
     ]
    },
    {
     "name": "stderr",
     "output_type": "stream",
     "text": [
      "1 ports found\n"
     ]
    },
    {
     "data": {
      "text/plain": [
       "0"
      ]
     },
     "execution_count": 8,
     "metadata": {},
     "output_type": "execute_result"
    }
   ],
   "source": [
    "def list_ports():\n",
    "    result = os.system('python -m serial.tools.list_ports -v')\n",
    "    return result\n",
    "\n",
    "list_ports()"
   ]
  },
  {
   "cell_type": "code",
   "execution_count": 9,
   "id": "7514c035-2324-4617-8624-3a3249e924d6",
   "metadata": {},
   "outputs": [],
   "source": [
    "ser = serial.Serial(port='/dev/ttyACM0')"
   ]
  },
  {
   "cell_type": "code",
   "execution_count": 10,
   "id": "91cada55-6ea4-49b7-99a1-597512f840fb",
   "metadata": {},
   "outputs": [],
   "source": [
    "def get_stable_mass():\n",
    "    ser.write('S\\r\\n'.encode('UTF-8'))  \n",
    "    data = ser.readline(100).decode()\n",
    "    grams = float(parse.search('{:F}', data)[0])\n",
    "    return grams\n",
    "\n",
    "# get_stable_mass()"
   ]
  },
  {
   "cell_type": "code",
   "execution_count": 11,
   "id": "82f3901f-3af5-455b-bf75-52a78e0527ed",
   "metadata": {},
   "outputs": [
    {
     "name": "stdout",
     "output_type": "stream",
     "text": [
      "Press ENTER to get mass; q to quit\n"
     ]
    },
    {
     "name": "stdin",
     "output_type": "stream",
     "text": [
      " \n"
     ]
    },
    {
     "name": "stdout",
     "output_type": "stream",
     "text": [
      "mass: 0.0002 g\n"
     ]
    },
    {
     "name": "stdin",
     "output_type": "stream",
     "text": [
      " \n"
     ]
    },
    {
     "name": "stdout",
     "output_type": "stream",
     "text": [
      "mass: 0.0002 g\n"
     ]
    },
    {
     "name": "stdin",
     "output_type": "stream",
     "text": [
      " \n"
     ]
    },
    {
     "name": "stdout",
     "output_type": "stream",
     "text": [
      "mass: 0.0002 g\n"
     ]
    },
    {
     "name": "stdin",
     "output_type": "stream",
     "text": [
      " \n"
     ]
    },
    {
     "name": "stdout",
     "output_type": "stream",
     "text": [
      "mass: 0.0002 g\n"
     ]
    },
    {
     "name": "stdin",
     "output_type": "stream",
     "text": [
      " AdBdC0123456\n",
      " AdBdC0123456\n",
      " AdBdC0123456\n",
      " AdBdC0123456\n",
      " AdBdC0123456\n",
      " q\n"
     ]
    }
   ],
   "source": [
    "# MAIN\n",
    "\n",
    "print('Press ENTER to get mass; q to quit')\n",
    "c ='x'\n",
    "while c != 'q':\n",
    "    c = input()\n",
    "    if c == 'a':\n",
    "        print('a (ignored)')\n",
    "    elif c == 'b':\n",
    "        print('b (ignored)')\n",
    "    elif c == '':\n",
    "        grams = get_stable_mass()\n",
    "        print(f'mass: {grams} g')            "
   ]
  },
  {
   "cell_type": "code",
   "execution_count": 12,
   "id": "9589fdc7-2e00-4b56-a3ea-0ccb1c562fec",
   "metadata": {},
   "outputs": [
    {
     "name": "stdout",
     "output_type": "stream",
     "text": [
      "FINISHED\n"
     ]
    }
   ],
   "source": [
    "print('FINISHED')"
   ]
  },
  {
   "cell_type": "code",
   "execution_count": 16,
   "id": "502a1f42-813d-4049-9671-1dfa27b1bd16",
   "metadata": {},
   "outputs": [
    {
     "name": "stdin",
     "output_type": "stream",
     "text": [
      " AdBdC0123456\n"
     ]
    },
    {
     "data": {
      "text/plain": [
       "'AdBdC0123456'"
      ]
     },
     "execution_count": 16,
     "metadata": {},
     "output_type": "execute_result"
    }
   ],
   "source": [
    "input()"
   ]
  },
  {
   "cell_type": "code",
   "execution_count": null,
   "id": "f6695bc8-dc41-4691-a77d-16bc13378524",
   "metadata": {},
   "outputs": [],
   "source": []
  }
 ],
 "metadata": {
  "kernelspec": {
   "display_name": "Python 3 (ipykernel)",
   "language": "python",
   "name": "python3"
  },
  "language_info": {
   "codemirror_mode": {
    "name": "ipython",
    "version": 3
   },
   "file_extension": ".py",
   "mimetype": "text/x-python",
   "name": "python",
   "nbconvert_exporter": "python",
   "pygments_lexer": "ipython3",
   "version": "3.9.5"
  }
 },
 "nbformat": 4,
 "nbformat_minor": 5
}
